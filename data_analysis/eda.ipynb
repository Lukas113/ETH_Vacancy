{
 "cells": [
  {
   "cell_type": "markdown",
   "metadata": {},
   "source": [
    "**Anmerkung**\n",
    "\n",
    "Dieses Notebook hat zum Ziel die Daten vor einer Anpassungen, also ohne entfernen von Daten die ausserhalb des Projektzeitraumes sind oder einen Fehler beinhalten, zu betrachten und kennenzulernen. Da die meisten Data Wrangling und Plot-Funktionen auch im Analyse-Bericht für die ETH verwendet werden, sind diese Funktionen auf die Files `data_wrangling.py` und `plot_functions.py` ausgelagert. Einige Grafiken im Notebook `analysis.ipynb` sind ebenfalls aus einer Form von EDA entstanden. "
   ]
  },
  {
   "cell_type": "markdown",
   "metadata": {},
   "source": [
    "# Explorative Datenanalyse der Sensordaten aus dem Projekt \"vacancy no-vacancy\"\n",
    "\n",
    "**Autor**: Roman Studer: roman.studer1@students.fhnw.ch, Simon Luder: simon.luder@students.fhnw.ch\n",
    "\n",
    "**Projekbeschreibung**: https://ds-spaces.technik.fhnw.ch/fs20p4/"
   ]
  },
  {
   "cell_type": "markdown",
   "metadata": {},
   "source": [
    "Diese Arbeit befasst sich mit der Auswertung von Sensordaten welche im Rahmen des Projektes \"vacancy no-vacancy\" durch die ETH Zürich gesammelt wurden.\n",
    "Für die Dauer eines Jahres steht seit dem Sommer 2019 das Mock-Up einer Wohnung auf der Dachterrasse des HIL-Gebäudes der ETH Zürich. Personen unterschiedlicher sozialer Gruppen wohnen für je eine Woche im Mock-Up.\n",
    "\n",
    "Im Mock-up sind vier beweglichen Elemente (Drehwand, Lampe Drehwand, Drehschrank, Lampe Aussenwand) prototypisch eingesetzt. Sensoren messen die Bewegungshäufigkeit, die Zeitpunkte sowie die jeweils gewählten Winkel sämtlicher beweglicher Bauteile. Türen und Schubladen sind ebenfalls mit Sensoren ausgestattet, welche eine Interaktion mit den Elementen binär festhält (ON/OFF oder OPEN/CLOSED). Die Auswertung der erhobenen Daten gibt Aufschlüsse über das dynamische Zusammenspiel zwischen Menschen und Wohnung. Mehr zum Projekt finden Sie auf der [Website](https://arch.ethz.ch/news-und-veranstaltungen/lehre-forschung/vacancy-novacancy.html) der ETH Zürich.\n",
    "\n",
    "Der Fokus dieser Datenanalyse liegt auf den Drehelementen. Diese werden durch den Raum beschränkt. Die Ausgangslage ist bei jedem Drehelement 0°, wobei eine Drehung im Uhrzeigersinn erfolgt. Somit können die Bewohner den Raum individuell nach Ihren Bedürfnissen gestalten.\n",
    "\n",
    "Die Datenanalyse beginnt mit der Überprüfung der Drehsensorwerte, um diese allenfalls zu korrigieren oder zu ignorieren."
   ]
  },
  {
   "cell_type": "markdown",
   "metadata": {},
   "source": [
    "![Lageplan Mock-up](layout.PNG)"
   ]
  },
  {
   "cell_type": "code",
   "execution_count": null,
   "metadata": {
    "jupyter": {
     "source_hidden": true
    }
   },
   "outputs": [],
   "source": [
    "# IMPORTS:\n",
    "import os.path\n",
    "\n",
    "# data wrangling\n",
    "from data_wrangling import *\n",
    "import pandas as pd\n",
    "import numpy as np\n",
    "import datetime, inspect\n",
    "from os import path\n",
    "\n",
    "# plotting\n",
    "from plot_functions import * # own plot functions from plot_functions.py\n",
    "import seaborn as sns\n",
    "import matplotlib.pyplot as plt\n",
    "import plotly.express as px\n",
    "\n",
    "color = [clrs['Drehwand'][0], clrs['Drehschrank'][0], clrs['LampeAussenwand'][0], clrs['LampeDrehwand'][0]]"
   ]
  },
  {
   "cell_type": "markdown",
   "metadata": {},
   "source": [
    "## 1. Datenimport"
   ]
  },
  {
   "cell_type": "markdown",
   "metadata": {},
   "source": [
    "Import von log_sensor table als `df_log`, person table als `df_person` und occupation_period als `df_op`. Zusätzlicher import von CSVs welche Informationen über Zeiträume enthält während denen die Daten entweder Fehlerhaft sind (`mal`) oder die Daten ausserhalb des ofiziellen Zeitraumes sind da zu diesem Zeitpunkt kein Partizipant im mock_up sind."
   ]
  },
  {
   "cell_type": "code",
   "execution_count": null,
   "metadata": {},
   "outputs": [],
   "source": [
    "# data import\n",
    "dba = DBAccess() # connect to db and load new data\n",
    "\n",
    "df_log = dba.select('sensor_data_total') # unfiltered log_sensor data\n",
    "df_person = dba.select('person') # dataframe containing information to every participant\n",
    "df_op = dba.select('occupation_period')\n",
    "person = dba.select('person') # dataframe containing information to every participant\n",
    "\n",
    "\n",
    "# import csv's\n",
    "mal = pd.read_csv('../database/Malfunction.csv') # table with malfunction timeframes\n",
    "not_o = pd.read_csv('../database/not_occupied.csv') # table with information about missing timeframes\n",
    "\n",
    "# enrich person with cingle and couple information\n",
    "df_person = living_situation_person(df_person)"
   ]
  },
  {
   "cell_type": "code",
   "execution_count": null,
   "metadata": {},
   "outputs": [],
   "source": [
    "df_log.head()"
   ]
  },
  {
   "cell_type": "code",
   "execution_count": null,
   "metadata": {},
   "outputs": [],
   "source": [
    "df_log.tail()"
   ]
  },
  {
   "cell_type": "code",
   "execution_count": null,
   "metadata": {},
   "outputs": [],
   "source": [
    "df_person.sample()"
   ]
  },
  {
   "cell_type": "code",
   "execution_count": null,
   "metadata": {},
   "outputs": [],
   "source": [
    "df_op.sample()"
   ]
  },
  {
   "cell_type": "markdown",
   "metadata": {},
   "source": [
    "## 3. Datenreinigung\n",
    "\n",
    "#### Datentypen\n",
    "Prüfen der Datentypen des DataFrame `df_log` sowie Anpassung für die weitere Analyse."
   ]
  },
  {
   "cell_type": "code",
   "execution_count": null,
   "metadata": {},
   "outputs": [],
   "source": [
    "df_log.info() # object --> 'string'"
   ]
  },
  {
   "cell_type": "markdown",
   "metadata": {},
   "source": [
    "#### Duplizierte Zeilen\n",
    "Entfernen doppelter Einträge"
   ]
  },
  {
   "cell_type": "code",
   "execution_count": null,
   "metadata": {},
   "outputs": [],
   "source": [
    "dub = len(df_log[df_log.duplicated()])\n",
    "print(f'Anzahl duplizierte Zeilen: {dub}')\n",
    "\n",
    "if dub > 0:\n",
    "    df_log.drop_duplicates()"
   ]
  },
  {
   "cell_type": "markdown",
   "metadata": {},
   "source": [
    "#### Fehlende Datenpunkte\n",
    "Features im DataFrame `df_log` können NaN Werte enthalten. \n",
    "- Sensoren die nicht vom Typ 'turn' (Drehsensoren) sind haben keine Einträge für \"sensor_numeric1\", \"sensor_numeric2\", \"sensor_diff\", \"sensor_duration\"\n",
    "- Sensoren vom Typ 'turn' haben keine Einträge für 'sensor_state'"
   ]
  },
  {
   "cell_type": "code",
   "execution_count": null,
   "metadata": {},
   "outputs": [],
   "source": [
    "df_log.isna().sum()"
   ]
  },
  {
   "cell_type": "markdown",
   "metadata": {},
   "source": [
    "Datenpunkte mit fehlenden Informationen über occupation_period_id, log_sensor_id und sensor werden nicht weiter verwendet."
   ]
  },
  {
   "cell_type": "code",
   "execution_count": null,
   "metadata": {},
   "outputs": [],
   "source": [
    "df_log.dropna(subset=['occupation_period_id','sensor','log_sensor_id'], inplace=True)"
   ]
  },
  {
   "cell_type": "code",
   "execution_count": null,
   "metadata": {},
   "outputs": [],
   "source": [
    "df_log.isna().sum()"
   ]
  },
  {
   "cell_type": "markdown",
   "metadata": {},
   "source": [
    "# Drehsensoren\n",
    "Insgesamt vier Sensoren sind vom sensor_type 'turn', sprich Drehsensoren welche die vier in der oberen Grafik dargestellten Sensoren darstellen. \"Drehwand\",\"Drehschrank\", \"LampeDrehwand\", \"LampeAussenwand\". Der Fokus der Arbeit liegt auf diesen Sensoren. "
   ]
  },
  {
   "cell_type": "markdown",
   "metadata": {},
   "source": [
    "## Postition der Drehsensoren durch die gesamte Projektzeit, unbehandelt"
   ]
  },
  {
   "cell_type": "code",
   "execution_count": null,
   "metadata": {},
   "outputs": [],
   "source": [
    "p_rotary(sensor_states)"
   ]
  },
  {
   "cell_type": "markdown",
   "metadata": {},
   "source": [
    "**Lesebeispiel:** Die Darstellung zeigt interaktiv die Stellung aller Drehsensoren über die gesamte Projektdauer an. Die x-Achse gibt Datum, oder beim Heranzoomen auch Urzeit, an. y-Achse gibt den jeweiligen Winkel des Sensors in Grad an. Mit der Maus kann ein Teilstück der Grafik angewählt werden (Click & Drag) sowie der Sensor angezeigt werden (Hover). Um wider zurück auf die Gesamtansicht zu kommen, oben links auf den Knopf \"Alle\" klicken. In der oberen rechten Ecke der Grafik kann mittels eines Dropdown alle oder einzelne Sensoren ausgewählt werden. Bei einzelner Ansicht stellen die zwei orangen Linien die Wertegrenze des jeweiligen Sensors dar."
   ]
  },
  {
   "cell_type": "markdown",
   "metadata": {},
   "source": [
    "**Feststellungen:**\n",
    "- Anhand der oberen Grafik ist gut zu erkennen das zwischen November und Februar Doe Drehwand sich 1. Ausserhalb der Minimal- und Maximalwerte befindet, 2. Im November konstant zu hoch ist, 3. Anfangs Dezember konstant zu tief und eine verkleinerte Range der Werte von nur ca. 60 Grad, 4. Anfangs November und Anfangs Februar extrem ausschlägt.\n",
    "- Ab Mitte Märt bis Anfangs Mai ist die Unterbrechung des Projektes durch den Ausbruch des Covid-19 Virus zu erkennen. \n",
    "- Alle Sensoren weisen immer wieder schiefe Linien dar. Der folgende Anfangswert ist also nicht auf der gleichen Position wie der letzte Endwert.\n",
    "- Immerwieder sind extrem kleine Sprünge von weniger als ein paar Grad zu erkennen."
   ]
  },
  {
   "cell_type": "markdown",
   "metadata": {},
   "source": [
    "## Postition der Drehsensoren durch die gesamte Projektzeit, korrigiert\n",
    "Hier handelt es sich um einen Vorgriff aus dem `analyse.ipynb`-Notebook um darzustellen was aus den oberen Feststellungen entstanden ist, im weiteren Verlauf des EDA-Notebooks werden allerdings noch die unkorrigierten Daten verwendet, Der folgende Lineplot enthält die selben Daten wie die obere Grafik, mit der Ausnahme das fehlerhafte Werte entfernt wurden. Dazu wurden die Daten geflagged.\n",
    "\n",
    "Diese Darstellung hat den Zweck, die Auswirkungen der oben genannten Behandlungsmöglichkeiten aufzuzeigen. Hierbei wurden folgende Entscheide getroffen:\n",
    "- Es werden lediglich die Endwerte berücksichtigt\n",
    "- Daten, welche für die Positionsanalyse ignoriert werden, jedoch nicht für die Häufigkeitsanalyse, werden hier nicht aufgezeigt (obwohl dies Teil der Analyse sind)\n",
    "- Extremwerte ausserhalb des Wertebereiches eines Drehsensors werden auf das Minimum/Maximum +/- die definierte Toleranz zurückgestuft.\n",
    "\n",
    "Somit ist die Auswirkung der ignorierten und korrigierten Zeitintervalle sowie der korrigierten Extremwerte ersichtlich. Weitere Zeitintervalle, welche für die Analyse ignoriert werden müssen, wie Spezialanlässe oder ein unbesetztes Mock-Up, sind hier nicht ersichtlich, da dieser Plot lediglich die Auswirkung der entschiedenen Behandlungsmöglichkeiten aufzeigen soll."
   ]
  },
  {
   "cell_type": "code",
   "execution_count": null,
   "metadata": {},
   "outputs": [],
   "source": [
    "p_rotary(prep_rotary_sensors)"
   ]
  },
  {
   "cell_type": "markdown",
   "metadata": {},
   "source": [
    "## Positionen der Drehsensoren"
   ]
  },
  {
   "cell_type": "code",
   "execution_count": null,
   "metadata": {},
   "outputs": [],
   "source": [
    "fig = px.box(data_frame=df_log[df_log.sensor_type =='turn'],\n",
    "            y='sensor_numeric1',\n",
    "            color='sensor',\n",
    "            title='Boxplot, Position der Drehsensoren',\n",
    "            labels={'sensor_numeric1':'Winkel (Grad)'},\n",
    "            color_discrete_sequence=color,\n",
    "            orientation='v')\n",
    "\n",
    "fig.show()"
   ]
  },
  {
   "cell_type": "markdown",
   "metadata": {},
   "source": [
    "Auf der Grafik zu erkennen ist folgendes: (Stand Juni 2020)\n",
    "- Drehwand und LampeDrehwand haben Werte die Stark under 0 Grad (also unter dem Minimalwert) sind.\n",
    "- Die Drehwand (welche nicht 360° Spielraum hat) hat Werte über 360° und auch eine Range an Werten über 360°\n",
    "- Drehschrank und LampeAussenwand sind korrekt, bzw. treten nicht über Max und Min Werte.\n",
    "- Der Median aller vier Sensoren ist unter 80°. Eine Tendenz nach 0 also Ausgangspostion ist so evtl. möglich."
   ]
  },
  {
   "cell_type": "markdown",
   "metadata": {},
   "source": [
    "## Verteilung der Bewegungen"
   ]
  },
  {
   "cell_type": "code",
   "execution_count": null,
   "metadata": {
    "jupyter": {
     "source_hidden": true
    }
   },
   "outputs": [],
   "source": [
    "fig = px.histogram(data_frame=df_log[df_log.sensor_type =='turn'],\n",
    "            x='sensor_numeric1',\n",
    "            color='sensor',\n",
    "            title='Boxplot, Position der Drehsensoren',\n",
    "            labels={'sensor_numeric1':'Winkel (Grad)'},\n",
    "            color_discrete_sequence=color,\n",
    "            orientation='v').update_layout(yaxis_title='Anzahl Bewegungen')\n",
    "\n",
    "fig.show()"
   ]
  },
  {
   "cell_type": "markdown",
   "metadata": {},
   "source": [
    "**Lesebeispiel:** Das obere Histogramm stellt die Häufigkeit einer Positionierung aller vier Drehsensoren dar. Anhand eines doppelklickes auf der Legende kann ein einzelnes Histogramm betrachtet werden. "
   ]
  },
  {
   "cell_type": "markdown",
   "metadata": {},
   "source": [
    "**Feststellungen:** (Stand Juni 2020)\n",
    "- Drehwand:\n",
    "    - Anhäufung bei 15-30°, 70-85°, 110-120°\n",
    "    - Werte unter 0°\n",
    "- Drehschrank:\n",
    "    - Deutlich mehr werte auf dem Minimalwert, kann auf eine Unbeliebtheit hinweisen\n",
    "- LampeDrehwand:\n",
    "    - Anhäufung bei 25-30° und 40-45°\n",
    "- Lampe Aussenwand:\n",
    "    - Hohe Anzahl bei 0° und 80-85°\n",
    "\n",
    "Die Auswertung aus dem Histogramm sollen kritisch betrachtet werden. Beliebte Positionen und Einstellungen sind auch abhängig von der Zeitdauer auf einer bestimmten Position. Ein gewichtetes Histogramm ist hier zu empfehlen."
   ]
  },
  {
   "cell_type": "markdown",
   "metadata": {},
   "source": [
    "## Häufigkeit der Bewegungen"
   ]
  },
  {
   "cell_type": "code",
   "execution_count": null,
   "metadata": {},
   "outputs": [],
   "source": [
    "df_count = df_log[df_log.sensor_type =='turn'].groupby('sensor').count().reset_index()\n",
    "fig = px.bar(data_frame=df_count,\n",
    "            x='sensor',\n",
    "            y='log_sensor_id',\n",
    "            color='sensor',\n",
    "            title='Boxplot, Position der Drehsensoren',\n",
    "            labels={'sensor_numeric1':'Winkel (Grad)'},\n",
    "            color_discrete_sequence=color).update_layout(yaxis_title='Anzahl Bewegungen')\n",
    "\n",
    "fig.show()"
   ]
  },
  {
   "cell_type": "markdown",
   "metadata": {},
   "source": [
    "(Stand Juni 2020) Anhand eines einfachen Barplots ist zu erkennen das rein von der Anzahl Bewegungen die Drehwand am meisten benutzt wird."
   ]
  },
  {
   "cell_type": "markdown",
   "metadata": {},
   "source": [
    "# Schubladen und Türen\n",
    "Die meisten Sensoren sind keine Drehsensoren, sondern nehmen einen binären Wert an. Schulbaden, Schränke und Türen nehmen Werte von Open/Close oder On/Off an.\n",
    "Für eine Bessere unterteilung werden die Sensoren in drei Gruppen unterteilt:\n",
    "- Schubladen und Schränke\n",
    "- Türen\n",
    "- Küche"
   ]
  },
  {
   "cell_type": "code",
   "execution_count": null,
   "metadata": {},
   "outputs": [],
   "source": [
    "# Kitchen sensors\n",
    "df_k = df_log[df_log['room'] == 'K'] # K for 'Küche'\n",
    "\n",
    "# cupboards and drawers\n",
    "df_s = df_log[df_log['sensor'].isin(['S_Boden_Wand_cyr',\n",
    "                             'S_Boden_Kueche_cyr',\n",
    "                             'S_Schub_Wand_cyr ',\n",
    "                             'S_Schub_Kueche_cyr',\n",
    "                             'H_Putz_cyr',\n",
    "                             'H_Graderobe_cyr',\n",
    "                             'B_Schrank_cyr',\n",
    "                             'B_Wasch_cyr',\n",
    "                             'W_Schub_Bad_cyr',\n",
    "                             'W_Schub_Wand_cyr',\n",
    "                             'W_Boden_Bad_cyr',\n",
    "                             'W_Boden_Wand_cyr'\n",
    "                            ])]\n",
    "\n",
    "# doors\n",
    "df_d = df_log[df_log['sensor'].isin(['H_Tuer_Str',\n",
    "                             'B_Tuer_Str'\n",
    "                            ])]"
   ]
  },
  {
   "cell_type": "markdown",
   "metadata": {},
   "source": [
    "## Küche"
   ]
  },
  {
   "cell_type": "code",
   "execution_count": null,
   "metadata": {},
   "outputs": [],
   "source": [
    "df_count = df_k.groupby(by=['sensor', 'sensor_state']).count().reset_index()\n",
    "fig = px.bar(data_frame=df_count,\n",
    "            x='sensor',\n",
    "            y='log_sensor_id',\n",
    "            color='sensor',\n",
    "            facet_row = 'sensor_state',\n",
    "            title='Boxplot, Position der Drehsensoren',\n",
    "            labels={'sensor_numeric1':'Winkel (Grad)'}).update_layout(yaxis_title='Anzahl Bewegungen')\n",
    "\n",
    "fig.show()"
   ]
  },
  {
   "cell_type": "markdown",
   "metadata": {},
   "source": [
    "Die Sensoren K_Abfall_cyr (Abfalleimer), K_Kuehl_cyr (Kühlschrank) und K_Schub_Oben_cyr stechen deutlich hervor. Jeder Sensor ist unterteilt in die jeweiligen States die er annemhen kann. Die Sensoren scheinen zu funktionieren."
   ]
  },
  {
   "cell_type": "markdown",
   "metadata": {},
   "source": [
    "## Schubladen und Schränke"
   ]
  },
  {
   "cell_type": "code",
   "execution_count": null,
   "metadata": {},
   "outputs": [],
   "source": [
    "df_count = df_s.groupby(by=['sensor','sensor_state']).count().reset_index()\n",
    "fig = px.bar(data_frame=df_count,\n",
    "            x='sensor',\n",
    "            y='log_sensor_id',\n",
    "            facet_row = 'sensor_state',\n",
    "            color='sensor',\n",
    "            title='Boxplot, Position der Drehsensoren',\n",
    "            labels={'sensor_numeric1':'Winkel (Grad)'}).update_layout(yaxis_title='Anzahl Bewegungen')\n",
    "\n",
    "fig.show()"
   ]
  },
  {
   "cell_type": "markdown",
   "metadata": {},
   "source": [
    "Die Garderobe und der Putzschrank stechen hier deutlich hervor. Die Sensoren sind ebenfalls in die States aufgeteilt die sie annehmen können."
   ]
  },
  {
   "cell_type": "markdown",
   "metadata": {},
   "source": [
    "## Türen "
   ]
  },
  {
   "cell_type": "code",
   "execution_count": null,
   "metadata": {},
   "outputs": [],
   "source": [
    "df_count = df_d.groupby('sensor').count().reset_index()\n",
    "fig = px.bar(data_frame=df_count,\n",
    "            x='sensor',\n",
    "            y='log_sensor_id',\n",
    "            color='sensor',\n",
    "            title='Boxplot, Position der Drehsensoren',\n",
    "            labels={'sensor_numeric1':'Winkel (Grad)'}).update_layout(yaxis_title='Anzahl Bewegungen')\n",
    "\n",
    "fig.show()"
   ]
  },
  {
   "cell_type": "markdown",
   "metadata": {},
   "source": [
    "Die Tür zum Balkon wird häufiger verwendet als die Eingangstür."
   ]
  },
  {
   "cell_type": "markdown",
   "metadata": {},
   "source": [
    "# Personen\n",
    "Für eine spätere Analyse ist die Verteilung der Benutzergruppen, also Alter, Beruf oder Geschlecht interessant. Dies erlaubt es die Daten zu normieren um eine Interpretation zu erlauben."
   ]
  },
  {
   "cell_type": "code",
   "execution_count": null,
   "metadata": {},
   "outputs": [],
   "source": [
    "single_couple(df_person)"
   ]
  },
  {
   "cell_type": "markdown",
   "metadata": {},
   "source": [
    "Das Verhältnis zwischen Singles und Paaren ist etwa gleich."
   ]
  },
  {
   "cell_type": "code",
   "execution_count": null,
   "metadata": {},
   "outputs": [],
   "source": [
    "sex_dist(df_person)"
   ]
  },
  {
   "cell_type": "markdown",
   "metadata": {},
   "source": [
    "Insgesamt sind mehr Männer Teilnemher (9 mehr als Frauen)"
   ]
  },
  {
   "cell_type": "code",
   "execution_count": null,
   "metadata": {},
   "outputs": [],
   "source": [
    "age_dist(person)"
   ]
  },
  {
   "cell_type": "markdown",
   "metadata": {},
   "source": [
    "Je höher dass Alter umso weniger Teilnehmer."
   ]
  },
  {
   "cell_type": "code",
   "execution_count": null,
   "metadata": {},
   "outputs": [],
   "source": [
    "sex_age_dist(df_person)"
   ]
  },
  {
   "cell_type": "markdown",
   "metadata": {},
   "source": [
    "Frauen in der Altersgruppe 30-45 sind deutlich unterrepräsentiert."
   ]
  },
  {
   "cell_type": "code",
   "execution_count": null,
   "metadata": {},
   "outputs": [],
   "source": [
    "couples_sex_age(df_person)"
   ]
  },
  {
   "cell_type": "markdown",
   "metadata": {},
   "source": [
    "Bei Paaren sind keine gleichgeschlechtlige Paare in der Alterskategorie 45-60, 60-75 vorhanden."
   ]
  },
  {
   "cell_type": "code",
   "execution_count": null,
   "metadata": {},
   "outputs": [],
   "source": [
    "singles_sex_age_dist(df_person)"
   ]
  },
  {
   "cell_type": "markdown",
   "metadata": {},
   "source": [
    "Es gibt keine männlichen Singles in der Altersgruppe 18-30 und 45-60. Die Männer dominieren allerdings die Anzahl Teilnehmer in der Gruppe 30-45."
   ]
  },
  {
   "cell_type": "code",
   "execution_count": null,
   "metadata": {},
   "outputs": [],
   "source": [
    "ss_couples_sex_age_dist(df_person)"
   ]
  },
  {
   "cell_type": "markdown",
   "metadata": {},
   "source": [
    "Bei den Paaren fehlen Gleichgeschlechtliche Paare in den oberen drei Altergruppen"
   ]
  },
  {
   "cell_type": "code",
   "execution_count": null,
   "metadata": {},
   "outputs": [],
   "source": [
    "profession_dist(person)"
   ]
  },
  {
   "cell_type": "markdown",
   "metadata": {},
   "source": [
    "Viele Teilnehmer sind entweder Student (meist Architekturstudent) oder Architekt. "
   ]
  },
  {
   "cell_type": "markdown",
   "metadata": {},
   "source": [
    "# Schlussbemerkung\n",
    "Dieses kurze EDA Notebook hat gute Einblicke in die Datenbeschaffenheit ermöglicht. Vor allem die Visualisierung der Positionen der Log-Sensoren war massgebend für den Umgang mit fehlerhaften Daten. Problematisch ist das es Benutzergruppen gibt die nicht repräsentiert sind. Diese Erkenntnis wurde an die ETH weitergeleitet. "
   ]
  }
 ],
 "metadata": {
  "kernelspec": {
   "display_name": "Python 3",
   "language": "python",
   "name": "python3"
  },
  "language_info": {
   "codemirror_mode": {
    "name": "ipython",
    "version": 3
   },
   "file_extension": ".py",
   "mimetype": "text/x-python",
   "name": "python",
   "nbconvert_exporter": "python",
   "pygments_lexer": "ipython3",
   "version": "3.7.3"
  },
  "toc-autonumbering": false
 },
 "nbformat": 4,
 "nbformat_minor": 4
}
